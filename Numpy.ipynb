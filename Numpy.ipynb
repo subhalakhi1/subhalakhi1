{
  "nbformat": 4,
  "nbformat_minor": 0,
  "metadata": {
    "colab": {
      "provenance": [],
      "include_colab_link": true
    },
    "kernelspec": {
      "name": "python3",
      "display_name": "Python 3"
    },
    "language_info": {
      "name": "python"
    }
  },
  "cells": [
    {
      "cell_type": "markdown",
      "metadata": {
        "id": "view-in-github",
        "colab_type": "text"
      },
      "source": [
        "<a href=\"https://colab.research.google.com/github/subhalakhi1/subhalakhi1/blob/main/Numpy.ipynb\" target=\"_parent\"><img src=\"https://colab.research.google.com/assets/colab-badge.svg\" alt=\"Open In Colab\"/></a>"
      ]
    },
    {
      "cell_type": "markdown",
      "source": [
        "*   NumPy is a fundamental library for scientific computing in Python.\n",
        "*   It stands for **\"Numerical Python**\" and provides powerful tools and functions for working with large, **multi-dimensional** arrays and matrices\n",
        "*   NumPy introduces the **ndarray** object, which enables efficient storage and manipulation of arrays of any dimension\n",
        "*   NumPy offers a comprehensive suite of mathematical functions, including trigonometry, linear algebra, Fourier transforms, random number generation, and more\n",
        "*   Libraries like Pandas, SciPy, and scikit-learn build upon NumPy's functionality and often expect NumPy arrays as input\n",
        "\n",
        "\n",
        "\n",
        "\n",
        "\n"
      ],
      "metadata": {
        "id": "LkXfPzp85d1_"
      }
    },
    {
      "cell_type": "code",
      "metadata": {
        "id": "jR_FUSB2PWc7"
      },
      "source": [
        "import numpy as np"
      ],
      "execution_count": null,
      "outputs": []
    },
    {
      "cell_type": "code",
      "metadata": {
        "id": "SZ9-kls2H297",
        "colab": {
          "base_uri": "https://localhost:8080/"
        },
        "outputId": "153f0d10-359d-45a3-8c89-a882f4ea49ed"
      },
      "source": [
        "#creating an array of type int and length 10\n",
        "print(np.zeros(10, dtype='int'))#creating array with zeros length 10\n",
        "print(np.ones((3,5), dtype=float))# creating array with flaoting point values\n",
        "print(np.full((3,5),1.23))#creating array with pre-defined values\n",
        "print(np.arange(0, 20, 2))#create an array with a set sequence\n",
        "print(np.linspace(0, 1, 5)) #create a 3x3 array with mean 0 and standard deviation 1 in a given dimension\n",
        "print(np.eye(3))#create an identity matrix"
      ],
      "execution_count": null,
      "outputs": [
        {
          "output_type": "stream",
          "name": "stdout",
          "text": [
            "[0 0 0 0 0 0 0 0 0 0]\n",
            "[[1. 1. 1. 1. 1.]\n",
            " [1. 1. 1. 1. 1.]\n",
            " [1. 1. 1. 1. 1.]]\n",
            "[[1.23 1.23 1.23 1.23 1.23]\n",
            " [1.23 1.23 1.23 1.23 1.23]\n",
            " [1.23 1.23 1.23 1.23 1.23]]\n",
            "[ 0  2  4  6  8 10 12 14 16 18]\n",
            "[0.   0.25 0.5  0.75 1.  ]\n",
            "[[1. 0. 0.]\n",
            " [0. 1. 0.]\n",
            " [0. 0. 1.]]\n"
          ]
        }
      ]
    },
    {
      "cell_type": "code",
      "metadata": {
        "colab": {
          "base_uri": "https://localhost:8080/"
        },
        "id": "oCo7l6BlQe50",
        "outputId": "e1ea82f6-7961-4234-d30e-98e0b3ba74f5"
      },
      "source": [
        "#accessing array elements\n",
        "x1 = np.array([4, 3, 2, 13, 8, 4])\n",
        "print(x1)\n",
        "print(x1[0], x1[5])\n",
        "print(x1[-1], x1[-6])\n",
        "x2=np.array([[3, 7, 5, 5],\n",
        "      [0, 1, 5, 9],\n",
        "      [3, 0, 5, 0]])\n",
        "print(x2)\n",
        "print(x2[2,3]) #2nd row 3rd column\n",
        "print(x2[2,-2]) #"
      ],
      "execution_count": null,
      "outputs": [
        {
          "output_type": "stream",
          "name": "stdout",
          "text": [
            "[ 4  3  2 13  8  4]\n",
            "4 4\n",
            "4 4\n",
            "[[3 7 5 5]\n",
            " [0 1 5 9]\n",
            " [3 0 5 0]]\n",
            "0\n",
            "5\n"
          ]
        }
      ]
    },
    {
      "cell_type": "code",
      "metadata": {
        "colab": {
          "base_uri": "https://localhost:8080/"
        },
        "id": "nsyFzCQ7RN6a",
        "outputId": "30637e5a-7c51-4094-c277-36be6a406826"
      },
      "source": [
        "#array slicing single dimension\n",
        "x = np.arange(10)\n",
        "print(x)\n",
        "print(x[:5])#from start to 4th position\n",
        "print(x[4:])#from 4th position to end\n",
        "print(x[4:7])#from 4th position to 6\n",
        "print(x[: : 2])#return elements at even place\n",
        "print(x[: : -1])#reverse the array\n",
        "print(x[1: : 2])#return elements from index 1 position step by two"
      ],
      "execution_count": null,
      "outputs": [
        {
          "output_type": "stream",
          "name": "stdout",
          "text": [
            "[0 1 2 3 4 5 6 7 8 9]\n",
            "[0 1 2 3 4]\n",
            "[4 5 6 7 8 9]\n",
            "[4 5 6]\n",
            "[0 2 4 6 8]\n",
            "[9 8 7 6 5 4 3 2 1 0]\n",
            "[1 3 5 7 9]\n"
          ]
        }
      ]
    },
    {
      "cell_type": "code",
      "metadata": {
        "colab": {
          "base_uri": "https://localhost:8080/"
        },
        "id": "D1CDpm-tT2W4",
        "outputId": "dc2fef9c-ba1b-4aa0-b4ca-5c74efe47d92"
      },
      "source": [
        "#array slicining in multidimensional array\n",
        "print(x2)\n",
        "print(x2.shape)\n",
        "print(x2[0:2]) #rows from index 0 up to, but excluding index 2\n",
        "print(x2[0:2,1:3]) #First 2 rows, 1st and 2nd column\n",
        "print(x2[2]) #only row\n",
        "print(x2[:,2]) #only column"
      ],
      "execution_count": null,
      "outputs": [
        {
          "output_type": "stream",
          "name": "stdout",
          "text": [
            "[[3 7 5 5]\n",
            " [0 1 5 9]\n",
            " [3 0 5 0]]\n",
            "(3, 4)\n",
            "[[3 7 5 5]\n",
            " [0 1 5 9]]\n",
            "[[7 5]\n",
            " [1 5]]\n",
            "[3 0 5 0]\n",
            "[5 5 5]\n"
          ]
        }
      ]
    },
    {
      "cell_type": "code",
      "metadata": {
        "id": "tZcfC7WhaKSO",
        "colab": {
          "base_uri": "https://localhost:8080/"
        },
        "outputId": "f498579b-2ec5-4a83-ff75-7568d66a39a5"
      },
      "source": [
        "# creating 3D array in numpy\n",
        "x3 = np.array([[[1, 2], [3, 4]], [[5, 6], [7, 8]]])\n",
        "print(x3)\n",
        "print(x3.shape)\n",
        "print(x3[0,0,1])"
      ],
      "execution_count": null,
      "outputs": [
        {
          "output_type": "stream",
          "name": "stdout",
          "text": [
            "[[[1 2]\n",
            "  [3 4]]\n",
            "\n",
            " [[5 6]\n",
            "  [7 8]]]\n",
            "(2, 2, 2)\n",
            "2\n"
          ]
        }
      ]
    },
    {
      "cell_type": "code",
      "metadata": {
        "colab": {
          "base_uri": "https://localhost:8080/"
        },
        "id": "6Vf8yDMUbkJm",
        "outputId": "6ea525d4-8ea3-4803-95c2-14fc2b0785c2"
      },
      "source": [
        "#Splitting and concatenation of arrays\n",
        "#concatenation\n",
        "x1=np.arange(0,10,2)\n",
        "x2=np.arange(10,20,2)\n",
        "print(x1,x2)\n",
        "#x3=np.concatenate([x1, x2], axis=0)\n",
        "#x3=np.stack([x1,x2], axis=0)\n",
        "x3=np.vstack([x1,x2])\n",
        "print(x3)"
      ],
      "execution_count": null,
      "outputs": [
        {
          "output_type": "stream",
          "name": "stdout",
          "text": [
            "[0 2 4 6 8] [10 12 14 16 18]\n",
            "[[ 0  2  4  6  8]\n",
            " [10 12 14 16 18]]\n"
          ]
        }
      ]
    },
    {
      "cell_type": "code",
      "metadata": {
        "colab": {
          "base_uri": "https://localhost:8080/"
        },
        "id": "hGDsq5eIACDE",
        "outputId": "f5ef3fc9-b9ce-46a8-96fc-6d5f295aabd5"
      },
      "source": [
        "#2D array concatenta\n",
        "x1=np.array([[1,2,3,4],[5,6,7,8]])\n",
        "x2=np.array([[9,10,11,12],[13,14,15,16]])\n",
        "#print(x1,x2)\n",
        "x3=np.concatenate([x1, x2],axis=0)\n",
        "x3=np.hstack([x1, x2])\n",
        "x3=np.vstack([x1, x2])\n",
        "print(x3, x3.shape)\n",
        "np.hsplit(x3,[2])\n",
        "\n"
      ],
      "execution_count": null,
      "outputs": [
        {
          "output_type": "stream",
          "name": "stdout",
          "text": [
            "[[ 1  2  3  4]\n",
            " [ 5  6  7  8]\n",
            " [ 9 10 11 12]\n",
            " [13 14 15 16]] (4, 4)\n"
          ]
        },
        {
          "output_type": "execute_result",
          "data": {
            "text/plain": [
              "[array([[ 1,  2],\n",
              "        [ 5,  6],\n",
              "        [ 9, 10],\n",
              "        [13, 14]]),\n",
              " array([[ 3,  4],\n",
              "        [ 7,  8],\n",
              "        [11, 12],\n",
              "        [15, 16]])]"
            ]
          },
          "metadata": {},
          "execution_count": 8
        }
      ]
    },
    {
      "cell_type": "code",
      "metadata": {
        "colab": {
          "base_uri": "https://localhost:8080/"
        },
        "id": "Do3dnBhZBPSR",
        "outputId": "11ac834b-1410-46a3-92ab-78c8c2455da8"
      },
      "source": [
        "#array Splitting\n",
        "x1=np.arange(0,15,2)\n",
        "print(x1)\n",
        "#x2=np.split(x1,[3])#spilt before index 2 and 4\n",
        "x2=np.array_split(x1,3)#split into array of size 3\n",
        "print(x2)\n"
      ],
      "execution_count": null,
      "outputs": [
        {
          "output_type": "stream",
          "name": "stdout",
          "text": [
            "[ 0  2  4  6  8 10 12 14]\n",
            "[array([0, 2, 4]), array([ 6,  8, 10]), array([12, 14])]\n"
          ]
        }
      ]
    },
    {
      "cell_type": "code",
      "metadata": {
        "colab": {
          "base_uri": "https://localhost:8080/"
        },
        "id": "3X48qqRkJwO0",
        "outputId": "e3896ce3-6621-4f0b-e6e5-700d8761be9c"
      },
      "source": [
        "#array reshaping\n",
        "print(x3)\n",
        "r,c=x3.shape\n",
        "print(r,c)\n",
        "x4=x3.reshape(-1,2)\n",
        "print(x4)\n",
        "#x4=x3.reshape(-1,2, order=\"F\")#replace col by col\n",
        "x4=np.ravel(x3, order=\"C\")\n",
        "x5=np.ravel\n",
        "print(x4)"
      ],
      "execution_count": null,
      "outputs": [
        {
          "output_type": "stream",
          "name": "stdout",
          "text": [
            "[[ 1  2  3  4]\n",
            " [ 5  6  7  8]\n",
            " [ 9 10 11 12]\n",
            " [13 14 15 16]]\n",
            "4 4\n",
            "[[ 1  2]\n",
            " [ 3  4]\n",
            " [ 5  6]\n",
            " [ 7  8]\n",
            " [ 9 10]\n",
            " [11 12]\n",
            " [13 14]\n",
            " [15 16]]\n",
            "[ 1  2  3  4  5  6  7  8  9 10 11 12 13 14 15 16]\n"
          ]
        }
      ]
    },
    {
      "cell_type": "code",
      "metadata": {
        "colab": {
          "base_uri": "https://localhost:8080/"
        },
        "id": "MlM3M0PqTw_j",
        "outputId": "5b4d3222-7d98-428e-9dbe-2efc8cf8db55"
      },
      "source": [
        "a1 = np.arange(1, 13).reshape(3, -1)  # 3_4\n",
        "a2 = np.arange(13, 25).reshape(3, -1)  # 3_4\n",
        "a3=np.dstack([a1,a2])\n",
        "print(a3,a3.shape)\n",
        "a4=a3.reshape(2,2,-1)\n",
        "print(a4, a4.shape)"
      ],
      "execution_count": null,
      "outputs": [
        {
          "output_type": "stream",
          "name": "stdout",
          "text": [
            "[[[ 1 13]\n",
            "  [ 2 14]\n",
            "  [ 3 15]\n",
            "  [ 4 16]]\n",
            "\n",
            " [[ 5 17]\n",
            "  [ 6 18]\n",
            "  [ 7 19]\n",
            "  [ 8 20]]\n",
            "\n",
            " [[ 9 21]\n",
            "  [10 22]\n",
            "  [11 23]\n",
            "  [12 24]]] (3, 4, 2)\n",
            "[[[ 1 13  2 14  3 15]\n",
            "  [ 4 16  5 17  6 18]]\n",
            "\n",
            " [[ 7 19  8 20  9 21]\n",
            "  [10 22 11 23 12 24]]] (2, 2, 6)\n"
          ]
        }
      ]
    },
    {
      "cell_type": "code",
      "metadata": {
        "colab": {
          "base_uri": "https://localhost:8080/"
        },
        "id": "fW6Mr2wmbL3p",
        "outputId": "794a15d5-7961-40ce-b85b-cf01b7ab69ab"
      },
      "source": [
        "#arithmetric operation on matrix\n",
        "A=np.array([[1,2,3,4],[5,6,7,8]])\n",
        "A,B=np.vsplit(A,[1])\n",
        "A=A.reshape(2,-1)\n",
        "B=B.reshape(2,-1)\n",
        "print(A)\n",
        "print(B)\n",
        "#  Addition of a scaler\n",
        "print (\"Addition of two matrices: \")\n",
        "print (np.add(A,2))#A+B\n",
        "#  add()is used to add matrices\n",
        "print (\"Addition of two matrices: \")\n",
        "print (np.add(A,B))#A+B\n",
        "# subtract()is used to subtract matrices\n",
        "print (\"Subtraction of two matrices : \")\n",
        "print (np.subtract(A,B))#A-B\n",
        "# divide()is used to divide matrices\n",
        "print (\"Matrix Division : \")\n",
        "print (np.divide(A,B))\n",
        "print (\"Multiplication of two matrices: \")\n",
        "print (np.multiply(A,B))#A*B\n",
        "print (\"The product of two matrices : \")\n",
        "print (np.dot(A,B))\n",
        "print (\"square root is : \")\n",
        "print (np.sqrt(A))#A**2\n",
        "print (\"The summation of elements : \")\n",
        "print (np.sum(A))\n",
        "print (\"The column wise summation  : \")\n",
        "print (np.sum(A,axis=0))\n",
        "print (\"The row wise summation: \")\n",
        "print (np.sum(A,axis=1))\n",
        "# using \"T\" to transpose the matrix\n",
        "print (\"Matrix transposition : \")\n",
        "print (A.T)\n",
        "#moving axis (matrix, source, desination)\n",
        "print(np.moveaxis(A,0,1 ))\n",
        "print(A.diagonal())"
      ],
      "execution_count": null,
      "outputs": [
        {
          "output_type": "stream",
          "name": "stdout",
          "text": [
            "[[1 2]\n",
            " [3 4]]\n",
            "[[5 6]\n",
            " [7 8]]\n",
            "Addition of two matrices: \n",
            "[[3 4]\n",
            " [5 6]]\n",
            "Addition of two matrices: \n",
            "[[ 6  8]\n",
            " [10 12]]\n",
            "Subtraction of two matrices : \n",
            "[[-4 -4]\n",
            " [-4 -4]]\n",
            "Matrix Division : \n",
            "[[0.2        0.33333333]\n",
            " [0.42857143 0.5       ]]\n",
            "Multiplication of two matrices: \n",
            "[[ 5 12]\n",
            " [21 32]]\n",
            "The product of two matrices : \n",
            "[[19 22]\n",
            " [43 50]]\n",
            "square root is : \n",
            "[[1.         1.41421356]\n",
            " [1.73205081 2.        ]]\n",
            "The summation of elements : \n",
            "10\n",
            "The column wise summation  : \n",
            "[4 6]\n",
            "The row wise summation: \n",
            "[3 7]\n",
            "Matrix transposition : \n",
            "[[1 3]\n",
            " [2 4]]\n",
            "[[1 3]\n",
            " [2 4]]\n",
            "[1 4]\n"
          ]
        }
      ]
    },
    {
      "cell_type": "code",
      "metadata": {
        "colab": {
          "base_uri": "https://localhost:8080/"
        },
        "id": "DmYL0KzXkia6",
        "outputId": "966078f7-0eb9-46db-d6e6-689c49950c3f"
      },
      "source": [
        "\n",
        "print(A+2)\n",
        "print(A*2)\n",
        "print(A**2)\n",
        "print(A+B)\n",
        "print(A@B)\n",
        "print(A*B)\n",
        "\n"
      ],
      "execution_count": null,
      "outputs": [
        {
          "output_type": "stream",
          "name": "stdout",
          "text": [
            "[[3 4]\n",
            " [5 6]]\n",
            "[[2 4]\n",
            " [6 8]]\n",
            "[[ 1  4]\n",
            " [ 9 16]]\n",
            "[[ 6  8]\n",
            " [10 12]]\n",
            "[[19 22]\n",
            " [43 50]]\n",
            "[[ 5 12]\n",
            " [21 32]]\n"
          ]
        }
      ]
    },
    {
      "cell_type": "code",
      "metadata": {
        "colab": {
          "base_uri": "https://localhost:8080/"
        },
        "id": "dBF5ueCTmvww",
        "outputId": "f5f5ad52-8fef-43b8-c7b3-121c6f3dba10"
      },
      "source": [
        "print(A)\n",
        "print(A.min())\n",
        "print(A.max())\n",
        "print(A.mean())\n",
        "print(np.std(A))\n",
        "print(A.min(axis=1))\n",
        "print(A.max(axis=1))\n",
        "print(A.mean(axis=1))\n"
      ],
      "execution_count": null,
      "outputs": [
        {
          "output_type": "stream",
          "name": "stdout",
          "text": [
            "[[1 2]\n",
            " [3 4]]\n",
            "1\n",
            "4\n",
            "2.5\n",
            "1.118033988749895\n",
            "[1 3]\n",
            "[2 4]\n",
            "[1.5 3.5]\n"
          ]
        }
      ]
    },
    {
      "cell_type": "code",
      "metadata": {
        "colab": {
          "base_uri": "https://localhost:8080/"
        },
        "id": "NmIqEnIm0LwA",
        "outputId": "7805c8ee-ce8b-4415-ea41-bb72ee991b4b"
      },
      "source": [
        "A=np.array([1,1,2,3,1,2,3,4,5,6,3,4,4,5,7,6,8,9,1,4,8])\n",
        "print(np.unique(A))\n",
        "uniqueValues, indicesList, frequency = np.unique(A, return_index=True,return_counts=True)\n",
        "print(uniqueValues, indicesList, frequency)"
      ],
      "execution_count": null,
      "outputs": [
        {
          "output_type": "stream",
          "name": "stdout",
          "text": [
            "[1 2 3 4 5 6 7 8 9]\n",
            "[1 2 3 4 5 6 7 8 9] [ 0  2  3  7  8  9 14 16 17] [4 2 3 4 2 2 1 2 1]\n"
          ]
        }
      ]
    },
    {
      "cell_type": "code",
      "metadata": {
        "colab": {
          "base_uri": "https://localhost:8080/"
        },
        "id": "p20Ad7epv2u7",
        "outputId": "23c774d0-fde3-4830-eb97-05cbe6cd7cbd"
      },
      "source": [
        "A=np.array([[1, 2,1, 3], [4, 3, 2, 1],  [2,1, 1,3], [5,1, 5, 2]])\n",
        "print(A)\n",
        "#B=list(set(A.ravel()))\n",
        "print(np.unique(A))\n",
        "#print(B)\n",
        "uniqueValues, indicesList, frequency = np.unique(A, return_index=True,return_counts=True)\n",
        "print(uniqueValues, indicesList, frequency)\n",
        "UniqueList=list(zip(uniqueValues, indicesList, frequency))\n",
        "print(UniqueList)"
      ],
      "execution_count": null,
      "outputs": [
        {
          "output_type": "stream",
          "name": "stdout",
          "text": [
            "[[1 2 1 3]\n",
            " [4 3 2 1]\n",
            " [2 1 1 3]\n",
            " [5 1 5 2]]\n",
            "[1 2 3 4 5]\n",
            "[1 2 3 4 5] [ 0  1  3  4 12] [6 4 3 1 2]\n",
            "[(1, 0, 6), (2, 1, 4), (3, 3, 3), (4, 4, 1), (5, 12, 2)]\n"
          ]
        }
      ]
    }
  ]
}